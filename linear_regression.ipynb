{
 "cells": [
  {
   "cell_type": "markdown",
   "id": "1f92ec3b-905d-4dde-9a53-39c2fc7f3d34",
   "metadata": {},
   "source": [
    "# Linear Regression implementation utilizing Pytorch"
   ]
  },
  {
   "cell_type": "code",
   "execution_count": 38,
   "id": "c7a770f1-457d-4874-b626-bc2cdc484006",
   "metadata": {},
   "outputs": [
    {
     "name": "stdout",
     "output_type": "stream",
     "text": [
      "Defaulting to user installation because normal site-packages is not writeable\n",
      "Requirement already satisfied: torch in /home/pj/.local/lib/python3.10/site-packages (2.6.0)\n",
      "Requirement already satisfied: torchvision in /home/pj/.local/lib/python3.10/site-packages (0.21.0)\n",
      "Requirement already satisfied: torchaudio in /home/pj/.local/lib/python3.10/site-packages (2.6.0)\n",
      "Requirement already satisfied: scikit-learn in /home/pj/.local/lib/python3.10/site-packages (1.6.1)\n",
      "Requirement already satisfied: numpy in /home/pj/.local/lib/python3.10/site-packages (2.2.2)\n",
      "Requirement already satisfied: matplotlib in /home/pj/.local/lib/python3.10/site-packages (3.10.0)\n",
      "Requirement already satisfied: networkx in /home/pj/.local/lib/python3.10/site-packages (from torch) (3.4.2)\n",
      "Requirement already satisfied: nvidia-nvtx-cu12==12.4.127 in /home/pj/.local/lib/python3.10/site-packages (from torch) (12.4.127)\n",
      "Requirement already satisfied: sympy==1.13.1 in /home/pj/.local/lib/python3.10/site-packages (from torch) (1.13.1)\n",
      "Requirement already satisfied: triton==3.2.0 in /home/pj/.local/lib/python3.10/site-packages (from torch) (3.2.0)\n",
      "Requirement already satisfied: nvidia-cuda-nvrtc-cu12==12.4.127 in /home/pj/.local/lib/python3.10/site-packages (from torch) (12.4.127)\n",
      "Requirement already satisfied: nvidia-cusolver-cu12==11.6.1.9 in /home/pj/.local/lib/python3.10/site-packages (from torch) (11.6.1.9)\n",
      "Requirement already satisfied: typing-extensions>=4.10.0 in /home/pj/.local/lib/python3.10/site-packages (from torch) (4.12.2)\n",
      "Requirement already satisfied: nvidia-cuda-cupti-cu12==12.4.127 in /home/pj/.local/lib/python3.10/site-packages (from torch) (12.4.127)\n",
      "Requirement already satisfied: fsspec in /home/pj/.local/lib/python3.10/site-packages (from torch) (2024.12.0)\n",
      "Requirement already satisfied: filelock in /home/pj/.local/lib/python3.10/site-packages (from torch) (3.17.0)\n",
      "Requirement already satisfied: nvidia-curand-cu12==10.3.5.147 in /home/pj/.local/lib/python3.10/site-packages (from torch) (10.3.5.147)\n",
      "Requirement already satisfied: nvidia-cudnn-cu12==9.1.0.70 in /home/pj/.local/lib/python3.10/site-packages (from torch) (9.1.0.70)\n",
      "Requirement already satisfied: nvidia-cublas-cu12==12.4.5.8 in /home/pj/.local/lib/python3.10/site-packages (from torch) (12.4.5.8)\n",
      "Requirement already satisfied: nvidia-cusparselt-cu12==0.6.2 in /home/pj/.local/lib/python3.10/site-packages (from torch) (0.6.2)\n",
      "Requirement already satisfied: jinja2 in /home/pj/.local/lib/python3.10/site-packages (from torch) (3.1.5)\n",
      "Requirement already satisfied: nvidia-nvjitlink-cu12==12.4.127 in /home/pj/.local/lib/python3.10/site-packages (from torch) (12.4.127)\n",
      "Requirement already satisfied: nvidia-nccl-cu12==2.21.5 in /home/pj/.local/lib/python3.10/site-packages (from torch) (2.21.5)\n",
      "Requirement already satisfied: nvidia-cufft-cu12==11.2.1.3 in /home/pj/.local/lib/python3.10/site-packages (from torch) (11.2.1.3)\n",
      "Requirement already satisfied: nvidia-cuda-runtime-cu12==12.4.127 in /home/pj/.local/lib/python3.10/site-packages (from torch) (12.4.127)\n",
      "Requirement already satisfied: nvidia-cusparse-cu12==12.3.1.170 in /home/pj/.local/lib/python3.10/site-packages (from torch) (12.3.1.170)\n",
      "Requirement already satisfied: mpmath<1.4,>=1.1.0 in /home/pj/.local/lib/python3.10/site-packages (from sympy==1.13.1->torch) (1.3.0)\n",
      "Requirement already satisfied: pillow!=8.3.*,>=5.3.0 in /usr/lib/python3/dist-packages (from torchvision) (9.0.1)\n",
      "Requirement already satisfied: threadpoolctl>=3.1.0 in /home/pj/.local/lib/python3.10/site-packages (from scikit-learn) (3.5.0)\n",
      "Requirement already satisfied: joblib>=1.2.0 in /home/pj/.local/lib/python3.10/site-packages (from scikit-learn) (1.4.2)\n",
      "Requirement already satisfied: scipy>=1.6.0 in /home/pj/.local/lib/python3.10/site-packages (from scikit-learn) (1.15.1)\n",
      "Requirement already satisfied: packaging>=20.0 in /home/pj/.local/lib/python3.10/site-packages (from matplotlib) (24.2)\n",
      "Requirement already satisfied: contourpy>=1.0.1 in /home/pj/.local/lib/python3.10/site-packages (from matplotlib) (1.3.1)\n",
      "Requirement already satisfied: cycler>=0.10 in /usr/lib/python3/dist-packages (from matplotlib) (0.11.0)\n",
      "Requirement already satisfied: pyparsing>=2.3.1 in /usr/lib/python3/dist-packages (from matplotlib) (2.4.7)\n",
      "Requirement already satisfied: fonttools>=4.22.0 in /usr/lib/python3/dist-packages (from matplotlib) (4.29.1)\n",
      "Requirement already satisfied: kiwisolver>=1.3.1 in /usr/lib/python3/dist-packages (from matplotlib) (1.3.2)\n",
      "Requirement already satisfied: python-dateutil>=2.7 in /home/pj/.local/lib/python3.10/site-packages (from matplotlib) (2.9.0.post0)\n",
      "Requirement already satisfied: six>=1.5 in /usr/lib/python3/dist-packages (from python-dateutil>=2.7->matplotlib) (1.16.0)\n",
      "Requirement already satisfied: MarkupSafe>=2.0 in /usr/lib/python3/dist-packages (from jinja2->torch) (2.0.1)\n"
     ]
    }
   ],
   "source": [
    "!pip install --upgrade torch torchvision torchaudio scikit-learn numpy matplotlib\n",
    "import numpy as np\n",
    "import torch\n",
    "import matplotlib.pyplot as plt\n",
    "\n",
    "%matplotlib inline"
   ]
  },
  {
   "cell_type": "code",
   "execution_count": 13,
   "id": "c028a145-b49f-4e63-9482-1d2cc625f536",
   "metadata": {},
   "outputs": [
    {
     "name": "stdout",
     "output_type": "stream",
     "text": [
      "2.5.1+cu124\n"
     ]
    }
   ],
   "source": [
    "print(torch.__version__)"
   ]
  },
  {
   "cell_type": "code",
   "execution_count": 18,
   "id": "ee5fb9a1-c37f-482b-a4ad-c76a0a048da4",
   "metadata": {},
   "outputs": [
    {
     "name": "stdout",
     "output_type": "stream",
     "text": [
      "GPU is available. Moving X, and y to GPU\n"
     ]
    }
   ],
   "source": [
    "import numpy as np\n",
    "from sklearn.datasets import fetch_california_housing\n",
    "\n",
    "housing = fetch_california_housing()\n",
    "m, n = housing.data.shape\n",
    "housing_data_plus_bias = np.c_[np.ones((m, 1)), housing.data]\n",
    "\n",
    "X = torch.tensor(housing_data_plus_bias)\n",
    "y = torch.tensor(housing.target.reshape(-1, 1))\n",
    "\n",
    "if torch.cuda.is_available():\n",
    "    print(\"GPU is available. Moving X, and y to GPU\")\n",
    "    X = X.to(device='cuda')\n",
    "    y = y.to(device='cuda')"
   ]
  },
  {
   "cell_type": "code",
   "execution_count": 24,
   "id": "bc26634a-c255-4844-98b3-51541ea0bcda",
   "metadata": {},
   "outputs": [],
   "source": [
    "XT = torch.transpose(X, 0, 1)\n",
    "\n",
    "theta = torch.matmul(torch.matmul(torch.linalg.inv(torch.matmul(XT, X)), XT), y)"
   ]
  },
  {
   "cell_type": "code",
   "execution_count": 25,
   "id": "43277569-8fd2-4553-9113-6b1b90806695",
   "metadata": {},
   "outputs": [
    {
     "data": {
      "text/plain": [
       "tensor([[-3.6942e+01],\n",
       "        [ 4.3669e-01],\n",
       "        [ 9.4358e-03],\n",
       "        [-1.0732e-01],\n",
       "        [ 6.4507e-01],\n",
       "        [-3.9764e-06],\n",
       "        [-3.7865e-03],\n",
       "        [-4.2131e-01],\n",
       "        [-4.3451e-01]], device='cuda:0', dtype=torch.float64)"
      ]
     },
     "execution_count": 25,
     "metadata": {},
     "output_type": "execute_result"
    }
   ],
   "source": [
    "theta"
   ]
  },
  {
   "cell_type": "code",
   "execution_count": 33,
   "id": "97bc6661-b775-4738-994e-1bf63d391e27",
   "metadata": {},
   "outputs": [
    {
     "data": {
      "text/plain": [
       "tensor(104.0288, device='cuda:0', dtype=torch.float64)"
      ]
     },
     "execution_count": 33,
     "metadata": {},
     "output_type": "execute_result"
    }
   ],
   "source": [
    "y_pred = torch.matmul(X, theta)\n",
    "\n",
    "(torch.sum((y - y_pred) ** 2))**0.5"
   ]
  },
  {
   "cell_type": "code",
   "execution_count": 49,
   "id": "c4d3dc99-f2d3-41a7-b0e9-633c3c40d8a7",
   "metadata": {},
   "outputs": [
    {
     "data": {
      "text/plain": [
       "(array([3.000e+00, 2.000e+00, 1.000e+00, 4.000e+00, 4.000e+00, 7.000e+00,\n",
       "        5.000e+00, 6.000e+00, 1.800e+01, 2.200e+01, 3.600e+01, 4.300e+01,\n",
       "        6.100e+01, 9.200e+01, 1.190e+02, 1.830e+02, 2.450e+02, 3.040e+02,\n",
       "        3.710e+02, 4.260e+02, 5.370e+02, 5.190e+02, 5.920e+02, 6.660e+02,\n",
       "        7.220e+02, 8.680e+02, 9.480e+02, 9.970e+02, 1.039e+03, 1.038e+03,\n",
       "        1.081e+03, 1.093e+03, 9.860e+02, 9.560e+02, 9.110e+02, 7.660e+02,\n",
       "        6.950e+02, 6.670e+02, 6.030e+02, 4.900e+02, 4.140e+02, 3.200e+02,\n",
       "        2.840e+02, 2.220e+02, 1.830e+02, 1.210e+02, 1.280e+02, 1.010e+02,\n",
       "        8.900e+01, 8.100e+01, 6.700e+01, 4.900e+01, 4.600e+01, 3.900e+01,\n",
       "        3.400e+01, 3.100e+01, 2.300e+01, 2.500e+01, 3.100e+01, 3.500e+01,\n",
       "        1.800e+01, 1.200e+01, 1.600e+01, 1.600e+01, 1.100e+01, 1.100e+01,\n",
       "        8.000e+00, 1.000e+01, 7.000e+00, 6.000e+00, 6.000e+00, 3.000e+00,\n",
       "        6.000e+00, 4.000e+00, 1.000e+00, 4.000e+00, 7.000e+00, 9.000e+00,\n",
       "        1.400e+01, 1.100e+01, 5.000e+00, 4.000e+00, 1.000e+00, 0.000e+00,\n",
       "        0.000e+00, 0.000e+00, 0.000e+00, 0.000e+00, 0.000e+00, 0.000e+00,\n",
       "        0.000e+00, 0.000e+00, 0.000e+00, 0.000e+00, 0.000e+00, 0.000e+00,\n",
       "        0.000e+00, 0.000e+00, 0.000e+00, 1.000e+00]),\n",
       " array([-1.0170533 , -0.91718001, -0.81730672, -0.71743343, -0.61756014,\n",
       "        -0.51768685, -0.41781355, -0.31794026, -0.21806697, -0.11819368,\n",
       "        -0.01832039,  0.0815529 ,  0.18142619,  0.28129948,  0.38117277,\n",
       "         0.48104606,  0.58091935,  0.68079264,  0.78066593,  0.88053922,\n",
       "         0.98041251,  1.0802858 ,  1.18015909,  1.28003239,  1.37990568,\n",
       "         1.47977897,  1.57965226,  1.67952555,  1.77939884,  1.87927213,\n",
       "         1.97914542,  2.07901871,  2.178892  ,  2.27876529,  2.37863858,\n",
       "         2.47851187,  2.57838516,  2.67825845,  2.77813174,  2.87800504,\n",
       "         2.97787833,  3.07775162,  3.17762491,  3.2774982 ,  3.37737149,\n",
       "         3.47724478,  3.57711807,  3.67699136,  3.77686465,  3.87673794,\n",
       "         3.97661123,  4.07648452,  4.17635781,  4.2762311 ,  4.37610439,\n",
       "         4.47597768,  4.57585098,  4.67572427,  4.77559756,  4.87547085,\n",
       "         4.97534414,  5.07521743,  5.17509072,  5.27496401,  5.3748373 ,\n",
       "         5.47471059,  5.57458388,  5.67445717,  5.77433046,  5.87420375,\n",
       "         5.97407704,  6.07395033,  6.17382362,  6.27369692,  6.37357021,\n",
       "         6.4734435 ,  6.57331679,  6.67319008,  6.77306337,  6.87293666,\n",
       "         6.97280995,  7.07268324,  7.17255653,  7.27242982,  7.37230311,\n",
       "         7.4721764 ,  7.57204969,  7.67192298,  7.77179627,  7.87166956,\n",
       "         7.97154286,  8.07141615,  8.17128944,  8.27116273,  8.37103602,\n",
       "         8.47090931,  8.5707826 ,  8.67065589,  8.77052918,  8.87040247,\n",
       "         8.97027576]),\n",
       " <BarContainer object of 100 artists>)"
      ]
     },
     "execution_count": 49,
     "metadata": {},
     "output_type": "execute_result"
    },
    {
     "data": {
      "image/png": "[encoded data removed]",
      "text/plain": [
       "<Figure size 640x480 with 1 Axes>"
      ]
     },
     "metadata": {},
     "output_type": "display_data"
    }
   ],
   "source": [
    "plt.hist(y.cpu(), bins=100)\n",
    "plt.hist(y_pred.cpu(), bins=100, lw=3, fc=(1, 0, 0, 0.1))"
   ]
  },
  {
   "cell_type": "code",
   "execution_count": null,
   "id": "3d97f59f-3a2d-4357-a579-0ff80a0b327e",
   "metadata": {},
   "outputs": [],
   "source": []
  }
 ],
 "metadata": {
  "kernelspec": {
   "display_name": "Python 3 (ipykernel)",
   "language": "python",
   "name": "python3"
  },
  "language_info": {
   "codemirror_mode": {
    "name": "ipython",
    "version": 3
   },
   "file_extension": ".py",
   "mimetype": "text/x-python",
   "name": "python",
   "nbconvert_exporter": "python",
   "pygments_lexer": "ipython3",
   "version": "3.13.1"
  }
 },
 "nbformat": 4,
 "nbformat_minor": 5
}
