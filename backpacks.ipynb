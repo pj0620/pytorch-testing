{
 "cells": [
  {
   "cell_type": "markdown",
   "id": "64978431-8772-49cd-8134-e73438451e69",
   "metadata": {},
   "source": [
    "# Backpack prediction Competition\n",
    "[link](https://www.kaggle.com/competitions/playground-series-s5e2/overview)"
   ]
  },
  {
   "cell_type": "code",
   "execution_count": 290,
   "id": "0622677d-670c-4997-98a9-890e87befd1c",
   "metadata": {},
   "outputs": [
    {
     "name": "stdout",
     "output_type": "stream",
     "text": [
      "\n",
      "\u001b[1m[\u001b[0m\u001b[34;49mnotice\u001b[0m\u001b[1;39;49m]\u001b[0m\u001b[39;49m A new release of pip is available: \u001b[0m\u001b[31;49m23.0.1\u001b[0m\u001b[39;49m -> \u001b[0m\u001b[32;49m25.0\u001b[0m\n",
      "\u001b[1m[\u001b[0m\u001b[34;49mnotice\u001b[0m\u001b[1;39;49m]\u001b[0m\u001b[39;49m To update, run: \u001b[0m\u001b[32;49m/home/pj/.pyenv/versions/py310_env/bin/python -m pip install --upgrade pip\u001b[0m\n",
      "Note: you may need to restart the kernel to use updated packages.\n",
      "Using cuda device\n"
     ]
    }
   ],
   "source": [
    "%pip install kagglehub numpy Pillow scikit-learn torch torchvision matplotlib opencv-python pandas 1>/dev/null\n",
    "import torch\n",
    "import numpy as np\n",
    "import matplotlib.pyplot as plt\n",
    "import cv2\n",
    "import pandas as pd\n",
    "import os\n",
    "os.environ['CUDA_LAUNCH_BLOCKING'] = '1'\n",
    "\n",
    "device = torch.accelerator.current_accelerator().type if torch.accelerator.is_available() else \"cpu\"\n",
    "# Force CPU\n",
    "# device = 'cpu'\n",
    "print(f\"Using {device} device\")\n",
    "\n",
    "%matplotlib inline"
   ]
  },
  {
   "cell_type": "markdown",
   "id": "317d5c79-4692-449f-830c-fcb882cd42fe",
   "metadata": {},
   "source": [
    "## Load Data"
   ]
  },
  {
   "cell_type": "code",
   "execution_count": 118,
   "id": "fac2e8e3-d50f-4537-8c63-b2aee0879977",
   "metadata": {},
   "outputs": [
    {
     "data": {
      "text/plain": [
       "array([0, 1, 1, 2, 2])"
      ]
     },
     "execution_count": 118,
     "metadata": {},
     "output_type": "execute_result"
    }
   ],
   "source": [
    "A = np.array([1,2,3,4,5])\n",
    "A // 2"
   ]
  },
  {
   "cell_type": "code",
   "execution_count": 330,
   "id": "fea8ee90-a053-497b-be01-15ee19542381",
   "metadata": {},
   "outputs": [
    {
     "name": "stdout",
     "output_type": "stream",
     "text": [
      "Path to dataset files: /home/pj/.cache/kagglehub/competitions/playground-series-s5e2\n"
     ]
    },
    {
     "data": {
      "text/plain": [
       "69367      49.02723\n",
       "193876    150.00000\n",
       "147137    113.40680\n",
       "126046    124.09221\n",
       "100251    100.93298\n",
       "275950     24.10931\n",
       "205002     82.23117\n",
       "213416     58.11345\n",
       "270926     95.35144\n",
       "240459     75.20157\n",
       "124876     69.04962\n",
       "201689    147.05262\n",
       "294247     15.16178\n",
       "195599     34.59734\n",
       "228798    138.00157\n",
       "Name: Price, dtype: float64"
      ]
     },
     "execution_count": 330,
     "metadata": {},
     "output_type": "execute_result"
    }
   ],
   "source": [
    "import kagglehub\n",
    "from PIL import Image\n",
    "import os\n",
    "from sklearn.model_selection import train_test_split\n",
    "\n",
    "# Download the latest version of the dataset to the specified subdirectory.\n",
    "dataset_path = kagglehub.competition_download(\"playground-series-s5e2\")\n",
    "\n",
    "print(\"Path to dataset files:\", dataset_path)\n",
    "\n",
    "# with open(f\"{dataset_path}/train.csv\", 'r') as f:\n",
    "#     print(f.readlines())\n",
    "\n",
    "raw_data = pd.read_csv(f\"{dataset_path}/train.csv\")\n",
    "X_pd_raw = raw_data.copy().drop('Price', axis=1).drop('id', axis=1)\n",
    "y_pd_raw = raw_data['Price']\n",
    "\n",
    "y_price_class = y_pd_raw // 10\n",
    "\n",
    "test_size = 0.00005\n",
    "# test_size = 0.2\n",
    "\n",
    "X_train_raw, X_test_raw, y_train_raw, y_test_raw = train_test_split(\n",
    "    X_pd_raw, y_pd_raw, stratify=y_price_class, test_size=test_size\n",
    ")\n",
    "\n",
    "y_test_raw"
   ]
  },
  {
   "cell_type": "markdown",
   "id": "cf140158-f235-46f6-91d6-3295193c099e",
   "metadata": {},
   "source": [
    "# Data Exploration"
   ]
  },
  {
   "cell_type": "code",
   "execution_count": 293,
   "id": "2dac84a9-92d4-4465-9c4e-0ddbb0a4ff3b",
   "metadata": {},
   "outputs": [
    {
     "data": {
      "text/plain": [
       "array([[<Axes: title={'center': 'id'}>,\n",
       "        <Axes: title={'center': 'Compartments'}>],\n",
       "       [<Axes: title={'center': 'Weight Capacity (kg)'}>,\n",
       "        <Axes: title={'center': 'Price'}>]], dtype=object)"
      ]
     },
     "execution_count": 293,
     "metadata": {},
     "output_type": "execute_result"
    },
    {
     "data": {
      "image/png": "[encoded data removed]",
      "text/plain": [
       "<Figure size 640x480 with 4 Axes>"
      ]
     },
     "metadata": {},
     "output_type": "display_data"
    }
   ],
   "source": [
    "raw_data.hist(bins=10)"
   ]
  },
  {
   "cell_type": "markdown",
   "id": "51f432b6-2aa6-4432-abe9-d117a135acca",
   "metadata": {},
   "source": [
    "## Preprocessing"
   ]
  },
  {
   "cell_type": "code",
   "execution_count": 331,
   "id": "5dae89a3-7c5d-4c34-b9ed-3f7ecfcf3bb3",
   "metadata": {},
   "outputs": [
    {
     "data": {
      "text/plain": [
       "array([[0.77777778, 0.93484574, 0.        , 1.        , 0.        ,\n",
       "        0.        , 0.        , 0.        , 0.        , 1.        ,\n",
       "        0.        , 0.        , 1.        , 0.        , 0.        ,\n",
       "        1.        , 0.        , 1.        , 0.        , 0.        ,\n",
       "        1.        , 0.        , 0.        , 0.        , 1.        ,\n",
       "        0.        , 0.        ],\n",
       "       [0.44444444, 0.70591185, 1.        , 0.        , 0.        ,\n",
       "        0.        , 0.        , 0.        , 0.        , 0.        ,\n",
       "        1.        , 0.        , 0.        , 1.        , 1.        ,\n",
       "        0.        , 1.        , 0.        , 0.        , 1.        ,\n",
       "        0.        , 0.        , 0.        , 0.        , 0.        ,\n",
       "        1.        , 0.        ],\n",
       "       [0.55555556, 0.54387233, 1.        , 0.        , 0.        ,\n",
       "        0.        , 0.        , 0.        , 0.        , 0.        ,\n",
       "        1.        , 1.        , 0.        , 0.        , 1.        ,\n",
       "        0.        , 0.        , 1.        , 0.        , 0.        ,\n",
       "        1.        , 0.        , 0.        , 0.        , 0.        ,\n",
       "        1.        , 0.        ],\n",
       "       [0.        , 0.63414962, 1.        , 0.        , 0.        ,\n",
       "        0.        , 0.        , 0.        , 1.        , 0.        ,\n",
       "        0.        , 1.        , 0.        , 0.        , 0.        ,\n",
       "        1.        , 0.        , 1.        , 0.        , 0.        ,\n",
       "        1.        , 0.        , 0.        , 0.        , 0.        ,\n",
       "        0.        , 1.        ],\n",
       "       [0.88888889, 0.4871011 , 1.        , 0.        , 0.        ,\n",
       "        0.        , 0.        , 0.        , 1.        , 0.        ,\n",
       "        0.        , 1.        , 0.        , 0.        , 0.        ,\n",
       "        1.        , 0.        , 1.        , 1.        , 0.        ,\n",
       "        0.        , 0.        , 0.        , 0.        , 0.        ,\n",
       "        1.        , 0.        ],\n",
       "       [0.22222222, 0.82277151, 0.        , 0.        , 1.        ,\n",
       "        0.        , 0.        , 0.        , 0.        , 0.        ,\n",
       "        1.        , 0.        , 0.        , 1.        , 0.        ,\n",
       "        1.        , 0.        , 1.        , 1.        , 0.        ,\n",
       "        0.        , 0.        , 1.        , 0.        , 0.        ,\n",
       "        0.        , 0.        ],\n",
       "       [1.        , 0.90250567, 1.        , 0.        , 0.        ,\n",
       "        0.        , 0.        , 0.        , 0.        , 0.        ,\n",
       "        1.        , 1.        , 0.        , 0.        , 0.        ,\n",
       "        1.        , 0.        , 1.        , 0.        , 1.        ,\n",
       "        0.        , 0.        , 0.        , 0.        , 1.        ,\n",
       "        0.        , 0.        ],\n",
       "       [0.        , 0.5933719 , 0.        , 0.        , 0.        ,\n",
       "        0.        , 1.        , 1.        , 0.        , 0.        ,\n",
       "        0.        , 0.        , 1.        , 0.        , 1.        ,\n",
       "        0.        , 1.        , 0.        , 1.        , 0.        ,\n",
       "        0.        , 0.        , 1.        , 0.        , 0.        ,\n",
       "        0.        , 0.        ],\n",
       "       [0.22222222, 0.19624631, 0.        , 0.        , 0.        ,\n",
       "        0.        , 1.        , 0.        , 0.        , 0.        ,\n",
       "        1.        , 1.        , 0.        , 0.        , 1.        ,\n",
       "        0.        , 1.        , 0.        , 0.        , 0.        ,\n",
       "        1.        , 1.        , 0.        , 0.        , 0.        ,\n",
       "        0.        , 0.        ],\n",
       "       [0.88888889, 0.83709805, 0.        , 0.        , 0.        ,\n",
       "        0.        , 1.        , 0.        , 0.        , 1.        ,\n",
       "        0.        , 0.        , 0.        , 1.        , 0.        ,\n",
       "        1.        , 0.        , 1.        , 1.        , 0.        ,\n",
       "        0.        , 0.        , 1.        , 0.        , 0.        ,\n",
       "        0.        , 0.        ],\n",
       "       [0.11111111, 0.07510103, 0.        , 0.        , 0.        ,\n",
       "        0.        , 1.        , 0.        , 0.        , 0.        ,\n",
       "        1.        , 0.        , 0.        , 1.        , 0.        ,\n",
       "        1.        , 0.        , 1.        , 0.        , 1.        ,\n",
       "        0.        , 0.        , 0.        , 0.        , 0.        ,\n",
       "        0.        , 1.        ],\n",
       "       [0.44444444, 0.6857088 , 0.        , 0.        , 1.        ,\n",
       "        0.        , 0.        , 0.        , 0.        , 1.        ,\n",
       "        0.        , 1.        , 0.        , 0.        , 0.        ,\n",
       "        1.        , 1.        , 0.        , 1.        , 0.        ,\n",
       "        0.        , 0.        , 0.        , 0.        , 1.        ,\n",
       "        0.        , 0.        ],\n",
       "       [0.77777778, 0.39397024, 1.        , 0.        , 0.        ,\n",
       "        0.        , 0.        , 0.        , 0.        , 0.        ,\n",
       "        1.        , 0.        , 1.        , 0.        , 1.        ,\n",
       "        0.        , 1.        , 0.        , 0.        , 1.        ,\n",
       "        0.        , 0.        , 0.        , 1.        , 0.        ,\n",
       "        0.        , 0.        ],\n",
       "       [0.55555556, 0.61947859, 0.        , 0.        , 0.        ,\n",
       "        1.        , 0.        , 0.        , 0.        , 0.        ,\n",
       "        1.        , 0.        , 1.        , 0.        , 1.        ,\n",
       "        0.        , 0.        , 1.        , 0.        , 1.        ,\n",
       "        0.        , 0.        , 0.        , 0.        , 0.        ,\n",
       "        1.        , 0.        ],\n",
       "       [0.77777778, 0.91176085, 0.        , 1.        , 0.        ,\n",
       "        0.        , 0.        , 1.        , 0.        , 0.        ,\n",
       "        0.        , 1.        , 0.        , 0.        , 1.        ,\n",
       "        0.        , 0.        , 1.        , 0.        , 1.        ,\n",
       "        0.        , 0.        , 0.        , 0.        , 0.        ,\n",
       "        0.        , 1.        ]])"
      ]
     },
     "execution_count": 331,
     "metadata": {},
     "output_type": "execute_result"
    }
   ],
   "source": [
    "from sklearn.pipeline import Pipeline\n",
    "from sklearn.compose import ColumnTransformer\n",
    "from sklearn.preprocessing import OrdinalEncoder, StandardScaler, OneHotEncoder, MinMaxScaler\n",
    "from sklearn.impute import SimpleImputer\n",
    "\n",
    "num_features = ['Compartments', 'Weight Capacity (kg)']\n",
    "cat_features = ['Brand', 'Material', 'Size', 'Laptop Compartment', 'Waterproof', 'Style', 'Color']\n",
    "\n",
    "missing_cols = [\n",
    "    col\n",
    "    for col in X_pd.columns\n",
    "    if (col not in num_features) and (col not in cat_features)\n",
    "]\n",
    "assert len(missing_cols) == 0, f\"not all columns accounted for; missing {missing_cols}\"\n",
    "\n",
    "cat_pipeline = Pipeline(steps=[\n",
    "    ('imputer_mf', SimpleImputer(strategy=\"most_frequent\")),\n",
    "    ('encoder', OneHotEncoder())\n",
    "])\n",
    "\n",
    "num_pipeline = Pipeline(steps=[\n",
    "    ('imputer_mean', SimpleImputer(strategy=\"mean\")),\n",
    "    ('scaler', MinMaxScaler(feature_range=(0, 1)))\n",
    "])\n",
    "\n",
    "full_pipeline = ColumnTransformer(\n",
    "    transformers=[\n",
    "        ('num', num_pipeline, num_features),\n",
    "        ('cat', cat_pipeline, cat_features)\n",
    "    ],\n",
    "    remainder='drop'  # Drop any columns not specified (optional, default is 'drop')\n",
    ")\n",
    "\n",
    "full_pipeline.fit(X_train_raw)\n",
    "X_train = full_pipeline.transform(X_train_raw)\n",
    "X_test = full_pipeline.transform(X_test_raw)\n",
    "\n",
    "# y_train_unscaled = y_train_raw.values.reshape(-1, 1)\n",
    "# y_test_unscaled = y_test_raw.values.reshape(-1, 1)\n",
    "# target_scaler = StandardScaler()\n",
    "# target_scaler.fit(y_train_unscaled)\n",
    "# y_train = target_scaler.transform(y_train_unscaled)\n",
    "# y_test = target_scaler.transform(y_test_unscaled)\n",
    "\n",
    "y_train = y_train_raw.values.reshape(-1, 1)\n",
    "y_test = y_test_raw.values.reshape(-1, 1)\n",
    "\n",
    "\n",
    "X_test"
   ]
  },
  {
   "cell_type": "markdown",
   "id": "dd7a4afb-bc32-4204-b00a-d9b11add0d7f",
   "metadata": {
    "jp-MarkdownHeadingCollapsed": true
   },
   "source": [
    "## Try Traditional"
   ]
  },
  {
   "cell_type": "code",
   "execution_count": 176,
   "id": "31518323-d599-441c-843e-fe197b4b82d9",
   "metadata": {},
   "outputs": [
    {
     "name": "stderr",
     "output_type": "stream",
     "text": [
      "/home/pj/.pyenv/versions/py310_env/lib/python3.10/site-packages/sklearn/base.py:1389: DataConversionWarning: A column-vector y was passed when a 1d array was expected. Please change the shape of y to (n_samples,), for example using ravel().\n",
      "  return fit_method(estimator, *args, **kwargs)\n"
     ]
    },
    {
     "name": "stdout",
     "output_type": "stream",
     "text": [
      "train_err=227.1113247814791 test_err=1617.8557316054705\n"
     ]
    }
   ],
   "source": [
    "from sklearn.linear_model import LinearRegression\n",
    "from sklearn.metrics import mean_squared_error\n",
    "from sklearn.ensemble import RandomForestRegressor\n",
    "\n",
    "lin_reg = RandomForestRegressor()\n",
    "lin_reg.fit(X_train, y_train)\n",
    "\n",
    "y_pred_train = lin_reg.predict(X_train)\n",
    "train_err = mean_squared_error(y_pred_train, y_train)\n",
    "\n",
    "y_pred_test = lin_reg.predict(X_test)\n",
    "test_err = mean_squared_error(y_pred_test, y_test)\n",
    "\n",
    "print(f\"{train_err=} {test_err=}\")"
   ]
  },
  {
   "cell_type": "code",
   "execution_count": 146,
   "id": "f122b0af-8381-4d97-b3cc-dc2bd7917478",
   "metadata": {},
   "outputs": [
    {
     "data": {
      "text/plain": [
       "array([-0.04773257, -0.04533813, -0.05971396])"
      ]
     },
     "execution_count": 146,
     "metadata": {},
     "output_type": "execute_result"
    }
   ],
   "source": [
    "from sklearn.model_selection import cross_val_score\n",
    "from sklearn import svm\n",
    "\n",
    "clf = RandomForestRegressor()\n",
    "scores = cross_val_score(clf, X_train[:10000], y_train.ravel()[:10000], cv=3)\n",
    "# scores"
   ]
  },
  {
   "cell_type": "markdown",
   "id": "38d71dbf-9087-49c5-acba-c412682dea83",
   "metadata": {},
   "source": [
    "## Create Torch DataLoader "
   ]
  },
  {
   "cell_type": "code",
   "execution_count": 320,
   "id": "ac3fc546-d205-41d6-bccf-1e90c4df3e29",
   "metadata": {},
   "outputs": [],
   "source": [
    "from torch.utils.data import DataLoader, random_split, TensorDataset\n",
    "from torchvision import datasets, transforms\n",
    "\n",
    "X_train_tensor = torch.tensor(X_train, dtype=torch.float32).to(device)\n",
    "y_train_tensor = torch.tensor(y_train, dtype=torch.float32).to(device)\n",
    "X_test_tensor = torch.tensor(X_test, dtype=torch.float32).to(device)\n",
    "y_test_tensor = torch.tensor(y_test, dtype=torch.float32).to(device)\n",
    "\n",
    "train_dataset = TensorDataset(X_train_tensor, y_train_tensor)\n",
    "test_dataset = TensorDataset(X_test_tensor, y_test_tensor)\n",
    "\n",
    "train_loader = DataLoader(train_dataset, batch_size=128, shuffle=True)\n",
    "test_loader = DataLoader(test_dataset, batch_size=128, shuffle=False)\n"
   ]
  },
  {
   "cell_type": "code",
   "execution_count": 303,
   "id": "1aa5393c-e3dc-441e-89de-171ad334b34a",
   "metadata": {},
   "outputs": [
    {
     "data": {
      "text/plain": [
       "tensor([0.4444, 0.1455, 0.0000, 1.0000, 0.0000, 0.0000, 0.0000, 1.0000, 0.0000,\n",
       "        0.0000, 0.0000, 1.0000, 0.0000, 0.0000, 0.0000, 1.0000, 1.0000, 0.0000,\n",
       "        1.0000, 0.0000, 0.0000, 0.0000, 0.0000, 0.0000, 0.0000, 1.0000, 0.0000],\n",
       "       device='cuda:0')"
      ]
     },
     "execution_count": 303,
     "metadata": {},
     "output_type": "execute_result"
    }
   ],
   "source": [
    "X_train_tensor[0]"
   ]
  },
  {
   "cell_type": "markdown",
   "id": "77c28383-b4ff-41d2-bf8e-d51fe83d0679",
   "metadata": {},
   "source": [
    "## Training the network"
   ]
  },
  {
   "cell_type": "code",
   "execution_count": 332,
   "id": "0e8d96c8-a2cc-4df7-b1e4-4afef66decb7",
   "metadata": {},
   "outputs": [],
   "source": [
    "import os\n",
    "import torch\n",
    "from torch import nn\n",
    "from torch.utils.data import DataLoader\n",
    "from torchvision import datasets, transforms\n",
    "import torch.nn.functional as F\n",
    "\n",
    "TRAINING_WIDTH = 100\n",
    "DROPOUT_PERC = 0.1\n",
    "\n",
    "class NeuralNetwork(nn.Module):\n",
    "    def __init__(self):\n",
    "        super().__init__()\n",
    "        # We can use nn.Flatten to flatten the input in the forward pass.\n",
    "        self.flatten = nn.Flatten()\n",
    "        # self.linear_relu_stack = nn.Sequential(\n",
    "        #     nn.Linear(27, TRAINING_WIDTH),\n",
    "        #     # nn.BatchNorm1d(TRAINING_WIDTH),\n",
    "        #     nn.LeakyReLU(0.1),\n",
    "        #     nn.Linear(TRAINING_WIDTH, TRAINING_WIDTH),\n",
    "        #     # nn.BatchNorm1d(TRAINING_WIDTH),\n",
    "        #     nn.LeakyReLU(0.1),\n",
    "        #     nn.Linear(TRAINING_WIDTH, TRAINING_WIDTH),\n",
    "        #     nn.LeakyReLU(0.1),\n",
    "        #     nn.Linear(TRAINING_WIDTH, TRAINING_WIDTH),\n",
    "        #     # nn.LeakyReLU(0.1),\n",
    "        #     # nn.Linear(TRAINING_WIDTH, TRAINING_WIDTH),\n",
    "        #     # nn.LeakyReLU(0.1),\n",
    "        #     # nn.Linear(TRAINING_WIDTH, TRAINING_WIDTH),\n",
    "        #     # nn.LeakyReLU(0.1),\n",
    "        #     # nn.Linear(TRAINING_WIDTH, TRAINING_WIDTH),\n",
    "        #     # nn.BatchNorm1d(TRAINING_WIDTH),\n",
    "        #     nn.LeakyReLU(0.1),\n",
    "        #     nn.Linear(TRAINING_WIDTH, 1)\n",
    "        # )\n",
    "        self.linear_relu_stack = nn.Sequential(\n",
    "            nn.Linear(27, 128),\n",
    "            nn.LeakyReLU(0.01),\n",
    "            nn.Dropout(p=DROPOUT_PERC),\n",
    "            nn.Linear(128, 128),\n",
    "            nn.LeakyReLU(0.01),\n",
    "            nn.Dropout(p=DROPOUT_PERC),\n",
    "            nn.Linear(128, 64),\n",
    "            nn.LeakyReLU(0.01),\n",
    "            nn.Dropout(p=DROPOUT_PERC),\n",
    "            nn.Linear(64, 32),\n",
    "            nn.LeakyReLU(0.01),\n",
    "            nn.Dropout(p=DROPOUT_PERC),\n",
    "            nn.Linear(32, 1)\n",
    "        )\n",
    "\n",
    "    def forward(self, x):\n",
    "        x = self.flatten(x)\n",
    "        logits = self.linear_relu_stack(x)\n",
    "        return logits"
   ]
  },
  {
   "cell_type": "code",
   "execution_count": null,
   "id": "84c370b8-c8a3-45cd-84a4-f4b8f3005411",
   "metadata": {},
   "outputs": [
    {
     "name": "stdout",
     "output_type": "stream",
     "text": [
      "[1] vals: 77.1745 +/- 69.9414, train_loss: 1770.800, test_loss: 1614.354\n",
      "[2] vals: 77.7700 +/- 51.5075, train_loss: 1593.322, test_loss: 1586.990\n",
      "[3] vals: 79.4040 +/- 53.1837, train_loss: 1584.745, test_loss: 1579.940\n",
      "[4] vals: 81.0909 +/- 51.5084, train_loss: 1581.508, test_loss: 1576.740\n",
      "[5] vals: 79.5435 +/- 48.7955, train_loss: 1576.078, test_loss: 1572.192\n",
      "[6] vals: 78.3209 +/- 44.1045, train_loss: 1577.926, test_loss: 1577.968\n",
      "[7] vals: 81.6875 +/- 47.6370, train_loss: 1573.604, test_loss: 1569.065\n",
      "[8] vals: 74.0525 +/- 39.7817, train_loss: 1576.150, test_loss: 1614.487\n",
      "[9] vals: 82.5806 +/- 48.4299, train_loss: 1571.224, test_loss: 1570.854\n",
      "[10] vals: 80.6734 +/- 45.3213, train_loss: 1571.366, test_loss: 1566.702\n",
      "[11] vals: 80.4685 +/- 45.0134, train_loss: 1572.160, test_loss: 1567.288\n",
      "[12] vals: 82.7212 +/- 47.5454, train_loss: 1569.747, test_loss: 1571.213\n",
      "[13] vals: 76.7389 +/- 38.7627, train_loss: 1572.510, test_loss: 1580.087\n",
      "[14] vals: 77.9547 +/- 41.1850, train_loss: 1569.026, test_loss: 1572.941\n",
      "[15] vals: 78.9879 +/- 40.2106, train_loss: 1566.902, test_loss: 1567.499\n",
      "[16] vals: 80.6733 +/- 42.1089, train_loss: 1569.472, test_loss: 1561.873\n",
      "[17] vals: 80.2574 +/- 41.6480, train_loss: 1569.429, test_loss: 1562.641\n",
      "[18] vals: 79.0114 +/- 40.1664, train_loss: 1568.413, test_loss: 1567.285\n",
      "[19] vals: 86.5896 +/- 48.4943, train_loss: 1567.903, test_loss: 1594.512\n"
     ]
    }
   ],
   "source": [
    "model = NeuralNetwork().to(device)\n",
    "\n",
    "# Initialize the loss function\n",
    "criterion = nn.MSELoss()\n",
    "# optimizer = torch.optim.SGD(model.parameters(), lr=0.0001)\n",
    "optimizer = torch.optim.Adam(model.parameters())\n",
    "# optimizer = torch.optim.RMSprop(model.parameters(), lr=0.01)\n",
    "\n",
    "trains = []\n",
    "tests = []\n",
    "for epoch in range(100):  # loop over the dataset multiple times\n",
    "    running_loss = 0.0\n",
    "    for i, data in enumerate(train_loader, 0):\n",
    "        # get the inputs; data is a list of [inputs, labels]\n",
    "        inputs, labels = data\n",
    "\n",
    "        # zero the parameter gradients\n",
    "        optimizer.zero_grad()\n",
    "\n",
    "        # forward + backward + optimize\n",
    "        outputs = model(inputs)\n",
    "        loss = criterion(outputs, labels)\n",
    "        loss.backward()\n",
    "        optimizer.step()\n",
    "\n",
    "        # print statistics\n",
    "        running_loss += loss.item()\n",
    "    train_loss = running_loss / len(train_loader)\n",
    "\n",
    "    # test dataset\n",
    "    test_loss = 0\n",
    "    avg_var = 0\n",
    "    avg = 0\n",
    "    with torch.no_grad():\n",
    "        for i, data in enumerate(test_loader, 0):\n",
    "            # get the inputs; data is a list of [inputs, labels]\n",
    "            inputs, labels = data\n",
    "    \n",
    "            # forward + backward + optimize\n",
    "            outputs = model(inputs)\n",
    "\n",
    "            avg += np.mean(outputs.cpu().numpy())\n",
    "            avg_var += np.var(outputs.cpu().numpy())\n",
    "            \n",
    "            loss = criterion(outputs, labels)\n",
    "    \n",
    "            # print statistics\n",
    "            test_loss += loss.item()\n",
    "    test_loss /= len(test_loader)\n",
    "    avg_var /= len(test_loader)\n",
    "    avg /= len(test_loader)\n",
    "    \n",
    "    print(f'[{epoch + 1}] vals: {avg:.4f} +/- {avg_var:.4f}, train_loss: {train_loss:.3f}, test_loss: {test_loss:.3f}')\n",
    "    trains.append(train_loss)\n",
    "    tests.append(test_loss)\n",
    "\n",
    "plt.plot(trains)\n",
    "plt.plot(tests)\n",
    "plt.legend(['train', 'test'])"
   ]
  },
  {
   "cell_type": "markdown",
   "id": "bac5de97-436c-42b5-8b00-2d3a73782798",
   "metadata": {},
   "source": [
    "# Create submission"
   ]
  },
  {
   "cell_type": "code",
   "execution_count": 329,
   "id": "2d02ba9a-c0b2-48a7-851f-0a3c69d0e7c7",
   "metadata": {},
   "outputs": [
    {
     "name": "stdout",
     "output_type": "stream",
     "text": [
      "(200000, 27) (200000, 1)\n"
     ]
    }
   ],
   "source": [
    "raw_data_sub = pd.read_csv(f\"{dataset_path}/test.csv\")\n",
    "X_sub = full_pipeline.transform(raw_data_sub)\n",
    "ids_sub = raw_data_sub['id'].values.reshape(-1, 1)\n",
    "\n",
    "print(X_sub.shape,ids_sub.shape )\n",
    "\n",
    "X_sub_tensor = torch.tensor(X_sub, dtype=torch.float32).to(device)\n",
    "ids_sub_tensor = torch.tensor(ids_sub, dtype=torch.float32).to(device)\n",
    "\n",
    "sub_dataset = TensorDataset(X_sub_tensor, ids_sub_tensor)\n",
    "sub_loader = DataLoader(sub_dataset, batch_size=64, shuffle=False)\n",
    "\n",
    "res = None\n",
    "\n",
    "with torch.no_grad():\n",
    "    for i, data in enumerate(sub_loader, 0):\n",
    "        # get the inputs; data is a list of [inputs, labels]\n",
    "        inputs, ids = data\n",
    "\n",
    "        # forward + backward + optimize\n",
    "        outputs = model(inputs)\n",
    "\n",
    "        rows = torch.cat((ids, outputs), 1)\n",
    "\n",
    "        if res is None:\n",
    "            res = rows\n",
    "        else:\n",
    "            res = torch.cat((res, rows), 0)\n",
    "\n",
    "ans = pd.DataFrame(res.cpu().numpy(), columns=['id', 'Price'])\n",
    "ans['id'] = ans['id'].astype(int)\n",
    "ans.to_csv('backpack_sub.csv', index=False)"
   ]
  },
  {
   "cell_type": "code",
   "execution_count": null,
   "id": "a85de568-4d0c-4699-9543-2e2d51f91236",
   "metadata": {},
   "outputs": [],
   "source": []
  }
 ],
 "metadata": {
  "kernelspec": {
   "display_name": "Python 3.10",
   "language": "python",
   "name": "python310"
  },
  "language_info": {
   "codemirror_mode": {
    "name": "ipython",
    "version": 3
   },
   "file_extension": ".py",
   "mimetype": "text/x-python",
   "name": "python",
   "nbconvert_exporter": "python",
   "pygments_lexer": "ipython3",
   "version": "3.10.16"
  }
 },
 "nbformat": 4,
 "nbformat_minor": 5
}
